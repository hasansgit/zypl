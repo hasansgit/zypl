{
 "cells": [
  {
   "cell_type": "markdown",
   "metadata": {
    "id": "LlmAifELkU13"
   },
   "source": [
    "# Асосҳои Pandas"
   ]
  },
  {
   "cell_type": "markdown",
   "metadata": {
    "id": "8H8hsSdkkU16"
   },
   "source": [
    "Дар ин ноутбук мо бо имкониятҳои асосии `pandas` шинос хоҳем шуд. Ин модул ҳаҷми бузург дорад, бинобар ин мо танҳо як миқдори маҳдуди онро меомӯзем ва машқ мекунем. [Маълумоти муфассал](https://pandas.pydata.org/docs/reference/index.html)"
   ]
  },
  {
   "cell_type": "markdown",
   "metadata": {
    "id": "8H8hsSdkkU16"
   },
   "source": [
    "Тартибдиҳанда: Ҳакимов Раҳматҷон. Email: rahmatjon@gmail.com. Telegram: https://t.me/rahmatjon_hakimov"
   ]
  },
  {
   "cell_type": "markdown",
   "metadata": {
    "id": "EOktXh-FYdei"
   },
   "source": [
    "# Первое знакомство"
   ]
  },
  {
   "cell_type": "markdown",
   "metadata": {
    "id": "ud-4JAmw8hla"
   },
   "source": [
    "Истифодаи pandas-ро эълон мекунем:"
   ]
  },
  {
   "cell_type": "code",
   "execution_count": 11,
   "metadata": {
    "id": "xyofEpclYdei"
   },
   "outputs": [],
   "source": [
    "import pandas as pd  # pd лақаб барои pandas"
   ]
  },
  {
   "cell_type": "markdown",
   "metadata": {
    "id": "qqUhPY_e8myo"
   },
   "source": [
    "Маълумотро аз csv-файл мехонем:"
   ]
  },
  {
   "cell_type": "code",
   "execution_count": 12,
   "metadata": {
    "id": "gi6t59OoYdej"
   },
   "outputs": [],
   "source": [
    "data = pd.read_csv('purchases.csv', sep = ';')"
   ]
  },
  {
   "cell_type": "markdown",
   "metadata": {
    "id": "j_-SC97n8s6P"
   },
   "source": [
    "Дар тағйирёбандаи data чӣ ҳаст?"
   ]
  },
  {
   "cell_type": "code",
   "execution_count": 13,
   "metadata": {
    "colab": {
     "base_uri": "https://localhost:8080/",
     "height": 661
    },
    "executionInfo": {
     "elapsed": 382,
     "status": "ok",
     "timestamp": 1666023904882,
     "user": {
      "displayName": "Nikita Chestnov",
      "userId": "16607095869821949390"
     },
     "user_tz": -180
    },
    "id": "f_eVbG_NYdej",
    "outputId": "2bd53b3c-ffff-4b6b-83df-2c1a724fe148"
   },
   "outputs": [
    {
     "data": {
      "text/html": [
       "<div>\n",
       "<style scoped>\n",
       "    .dataframe tbody tr th:only-of-type {\n",
       "        vertical-align: middle;\n",
       "    }\n",
       "\n",
       "    .dataframe tbody tr th {\n",
       "        vertical-align: top;\n",
       "    }\n",
       "\n",
       "    .dataframe thead th {\n",
       "        text-align: right;\n",
       "    }\n",
       "</style>\n",
       "<table border=\"1\" class=\"dataframe\">\n",
       "  <thead>\n",
       "    <tr style=\"text-align: right;\">\n",
       "      <th></th>\n",
       "      <th>date</th>\n",
       "      <th>item</th>\n",
       "      <th>volume</th>\n",
       "      <th>price</th>\n",
       "      <th>market</th>\n",
       "    </tr>\n",
       "  </thead>\n",
       "  <tbody>\n",
       "    <tr>\n",
       "      <th>0</th>\n",
       "      <td>2024-06-27</td>\n",
       "      <td>Плит шок Нестле 82гр Горький шоколад 70%</td>\n",
       "      <td>1.000</td>\n",
       "      <td>7.47</td>\n",
       "      <td>Амид 19мкр</td>\n",
       "    </tr>\n",
       "    <tr>\n",
       "      <th>1</th>\n",
       "      <td>2024-06-27</td>\n",
       "      <td>Огурцы Орзу 104</td>\n",
       "      <td>0.398</td>\n",
       "      <td>5.50</td>\n",
       "      <td>Амид 19мкр</td>\n",
       "    </tr>\n",
       "    <tr>\n",
       "      <th>2</th>\n",
       "      <td>2024-06-27</td>\n",
       "      <td>Огурцы Т 3960</td>\n",
       "      <td>0.394</td>\n",
       "      <td>4.95</td>\n",
       "      <td>Амид 19мкр</td>\n",
       "    </tr>\n",
       "    <tr>\n",
       "      <th>3</th>\n",
       "      <td>2024-06-27</td>\n",
       "      <td>Гелос 1 (492)</td>\n",
       "      <td>0.306</td>\n",
       "      <td>34.90</td>\n",
       "      <td>Амид 19мкр</td>\n",
       "    </tr>\n",
       "    <tr>\n",
       "      <th>4</th>\n",
       "      <td>2024-06-27</td>\n",
       "      <td>Помидор 103 м</td>\n",
       "      <td>0.962</td>\n",
       "      <td>3.80</td>\n",
       "      <td>Амид 19мкр</td>\n",
       "    </tr>\n",
       "    <tr>\n",
       "      <th>5</th>\n",
       "      <td>2024-05-09</td>\n",
       "      <td>Пряники \"Ягодка\"</td>\n",
       "      <td>1.000</td>\n",
       "      <td>11.50</td>\n",
       "      <td>Доро</td>\n",
       "    </tr>\n",
       "    <tr>\n",
       "      <th>6</th>\n",
       "      <td>2024-05-09</td>\n",
       "      <td>Напиток \"Fanta\" апельсин-яблоко 1,25</td>\n",
       "      <td>1.000</td>\n",
       "      <td>9.45</td>\n",
       "      <td>Доро</td>\n",
       "    </tr>\n",
       "    <tr>\n",
       "      <th>7</th>\n",
       "      <td>2024-05-09</td>\n",
       "      <td>Помидоры т/т</td>\n",
       "      <td>0.350</td>\n",
       "      <td>19.60</td>\n",
       "      <td>Доро</td>\n",
       "    </tr>\n",
       "    <tr>\n",
       "      <th>8</th>\n",
       "      <td>2024-05-09</td>\n",
       "      <td>Конфеты \"Бабаевские\" трюфел/крем РТ</td>\n",
       "      <td>0.208</td>\n",
       "      <td>115.80</td>\n",
       "      <td>Доро</td>\n",
       "    </tr>\n",
       "    <tr>\n",
       "      <th>9</th>\n",
       "      <td>2024-05-09</td>\n",
       "      <td>Конфеты \"Тотти\" Suvorov</td>\n",
       "      <td>0.280</td>\n",
       "      <td>57.00</td>\n",
       "      <td>Доро</td>\n",
       "    </tr>\n",
       "    <tr>\n",
       "      <th>10</th>\n",
       "      <td>2024-05-09</td>\n",
       "      <td>Конфеты \"Бабаевские\" с фундуком и какао РТ</td>\n",
       "      <td>0.344</td>\n",
       "      <td>94.00</td>\n",
       "      <td>Доро</td>\n",
       "    </tr>\n",
       "    <tr>\n",
       "      <th>11</th>\n",
       "      <td>2024-05-09</td>\n",
       "      <td>Конфеты \"Вдохновение\" Миндаль и Фундук Крем РТ</td>\n",
       "      <td>0.228</td>\n",
       "      <td>120.60</td>\n",
       "      <td>Доро</td>\n",
       "    </tr>\n",
       "    <tr>\n",
       "      <th>12</th>\n",
       "      <td>2024-05-09</td>\n",
       "      <td>Огурцы т/т</td>\n",
       "      <td>0.228</td>\n",
       "      <td>4.90</td>\n",
       "      <td>Доро</td>\n",
       "    </tr>\n",
       "    <tr>\n",
       "      <th>13</th>\n",
       "      <td>2024-05-09</td>\n",
       "      <td>БАНАНЫ</td>\n",
       "      <td>1.036</td>\n",
       "      <td>23.90</td>\n",
       "      <td>Доро</td>\n",
       "    </tr>\n",
       "    <tr>\n",
       "      <th>14</th>\n",
       "      <td>2024-05-09</td>\n",
       "      <td>Напиток \"RC Cola\" 1л</td>\n",
       "      <td>2.000</td>\n",
       "      <td>8.00</td>\n",
       "      <td>Доро</td>\n",
       "    </tr>\n",
       "    <tr>\n",
       "      <th>15</th>\n",
       "      <td>2024-07-15</td>\n",
       "      <td>Мороженое \"Ты+Я\" Дусти Алишер (565828)</td>\n",
       "      <td>4.000</td>\n",
       "      <td>3.10</td>\n",
       "      <td>Оазис</td>\n",
       "    </tr>\n",
       "    <tr>\n",
       "      <th>16</th>\n",
       "      <td>2024-07-15</td>\n",
       "      <td>3.45 с Хлеб (43425)</td>\n",
       "      <td>1.000</td>\n",
       "      <td>3.45</td>\n",
       "      <td>Оазис</td>\n",
       "    </tr>\n",
       "    <tr>\n",
       "      <th>17</th>\n",
       "      <td>2024-07-15</td>\n",
       "      <td>Тухм 30 шт (566084)</td>\n",
       "      <td>1.000</td>\n",
       "      <td>22.00</td>\n",
       "      <td>Оазис</td>\n",
       "    </tr>\n",
       "    <tr>\n",
       "      <th>18</th>\n",
       "      <td>2024-07-15</td>\n",
       "      <td>0.15 с Пакет маль. (11421)</td>\n",
       "      <td>1.000</td>\n",
       "      <td>0.15</td>\n",
       "      <td>Оазис</td>\n",
       "    </tr>\n",
       "  </tbody>\n",
       "</table>\n",
       "</div>"
      ],
      "text/plain": [
       "          date                                            item  volume  \\\n",
       "0   2024-06-27        Плит шок Нестле 82гр Горький шоколад 70%   1.000   \n",
       "1   2024-06-27                                 Огурцы Орзу 104   0.398   \n",
       "2   2024-06-27                                   Огурцы Т 3960   0.394   \n",
       "3   2024-06-27                                   Гелос 1 (492)   0.306   \n",
       "4   2024-06-27                                   Помидор 103 м   0.962   \n",
       "5   2024-05-09                                Пряники \"Ягодка\"   1.000   \n",
       "6   2024-05-09            Напиток \"Fanta\" апельсин-яблоко 1,25   1.000   \n",
       "7   2024-05-09                                    Помидоры т/т   0.350   \n",
       "8   2024-05-09             Конфеты \"Бабаевские\" трюфел/крем РТ   0.208   \n",
       "9   2024-05-09                         Конфеты \"Тотти\" Suvorov   0.280   \n",
       "10  2024-05-09      Конфеты \"Бабаевские\" с фундуком и какао РТ   0.344   \n",
       "11  2024-05-09  Конфеты \"Вдохновение\" Миндаль и Фундук Крем РТ   0.228   \n",
       "12  2024-05-09                                      Огурцы т/т   0.228   \n",
       "13  2024-05-09                                          БАНАНЫ   1.036   \n",
       "14  2024-05-09                            Напиток \"RC Cola\" 1л   2.000   \n",
       "15  2024-07-15          Мороженое \"Ты+Я\" Дусти Алишер (565828)   4.000   \n",
       "16  2024-07-15                             3.45 с Хлеб (43425)   1.000   \n",
       "17  2024-07-15                             Тухм 30 шт (566084)   1.000   \n",
       "18  2024-07-15                      0.15 с Пакет маль. (11421)   1.000   \n",
       "\n",
       "     price      market  \n",
       "0     7.47  Амид 19мкр  \n",
       "1     5.50  Амид 19мкр  \n",
       "2     4.95  Амид 19мкр  \n",
       "3    34.90  Амид 19мкр  \n",
       "4     3.80  Амид 19мкр  \n",
       "5    11.50        Доро  \n",
       "6     9.45        Доро  \n",
       "7    19.60        Доро  \n",
       "8   115.80        Доро  \n",
       "9    57.00        Доро  \n",
       "10   94.00        Доро  \n",
       "11  120.60        Доро  \n",
       "12    4.90        Доро  \n",
       "13   23.90        Доро  \n",
       "14    8.00        Доро  \n",
       "15    3.10       Оазис  \n",
       "16    3.45       Оазис  \n",
       "17   22.00       Оазис  \n",
       "18    0.15       Оазис  "
      ]
     },
     "execution_count": 13,
     "metadata": {},
     "output_type": "execute_result"
    }
   ],
   "source": [
    "data"
   ]
  },
  {
   "cell_type": "markdown",
   "metadata": {
    "id": "qqUhPY_e8myo"
   },
   "source": [
    "Аз ин чоп тасаввуроти умумӣ оиди мӯҳтавои файли purchases.csv гирифтан мумкин аст."
   ]
  },
  {
   "cell_type": "markdown",
   "metadata": {
    "id": "qqUhPY_e8myo"
   },
   "source": [
    "Аён аст, ки дар ҷадвал ҳам маълумоти ададӣ ва ҳам маълумоти сифатӣ/сатрӣ нигоҳ дошта шуда метавонад."
   ]
  },
  {
   "cell_type": "markdown",
   "metadata": {
    "id": "wsMwE47L80xk"
   },
   "source": [
    "Намуди тағйирёбандаи data:"
   ]
  },
  {
   "cell_type": "code",
   "execution_count": 18,
   "metadata": {
    "colab": {
     "base_uri": "https://localhost:8080/"
    },
    "executionInfo": {
     "elapsed": 631,
     "status": "ok",
     "timestamp": 1666023792976,
     "user": {
      "displayName": "Nikita Chestnov",
      "userId": "16607095869821949390"
     },
     "user_tz": -180
    },
    "id": "vQKU_Wb8gRMq",
    "outputId": "c354f1bd-7b90-4f11-fa49-950701856965"
   },
   "outputs": [
    {
     "data": {
      "text/plain": [
       "pandas.core.frame.DataFrame"
      ]
     },
     "execution_count": 18,
     "metadata": {},
     "output_type": "execute_result"
    }
   ],
   "source": [
    "type(data)"
   ]
  },
  {
   "cell_type": "markdown",
   "metadata": {
    "id": "D4BaWi0bYdel"
   },
   "source": [
    "Шарҳи маълумоти дар сутунҳо сабтшуда:\n",
    " - *date* - санаи харид\n",
    " - *item* - номгӯи маҳсулот\n",
    " - *volume* - миқдори харидашуда\n",
    " - *price* - нарх\n",
    " - *market* - мағоза"
   ]
  },
  {
   "cell_type": "markdown",
   "metadata": {
    "id": "-O_MAN7H9RF0"
   },
   "source": [
    "Андозаи ҷадвалро мебинем:"
   ]
  },
  {
   "cell_type": "code",
   "execution_count": 19,
   "metadata": {
    "colab": {
     "base_uri": "https://localhost:8080/"
    },
    "executionInfo": {
     "elapsed": 274,
     "status": "ok",
     "timestamp": 1666023922956,
     "user": {
      "displayName": "Nikita Chestnov",
      "userId": "16607095869821949390"
     },
     "user_tz": -180
    },
    "id": "FCsr7xAhYdeo",
    "outputId": "ba837c80-ed6d-4bde-9a22-bb1c5c9a0574"
   },
   "outputs": [
    {
     "data": {
      "text/plain": [
       "(19, 5)"
      ]
     },
     "execution_count": 19,
     "metadata": {},
     "output_type": "execute_result"
    }
   ],
   "source": [
    "data.shape"
   ]
  },
  {
   "cell_type": "markdown",
   "metadata": {
    "id": "RsnAIO3L9YfM"
   },
   "source": [
    "Барои чоп кардани ҳамагӣ якчанд сатри ҷадвал аз методи `head` истифода мебарем:"
   ]
  },
  {
   "cell_type": "code",
   "execution_count": 25,
   "metadata": {
    "colab": {
     "base_uri": "https://localhost:8080/",
     "height": 434
    },
    "executionInfo": {
     "elapsed": 4,
     "status": "ok",
     "timestamp": 1666024092713,
     "user": {
      "displayName": "Nikita Chestnov",
      "userId": "16607095869821949390"
     },
     "user_tz": -180
    },
    "id": "NFZB99u-Ydeo",
    "outputId": "309c5fb7-6988-4d3f-a9bd-29fbec5a3447"
   },
   "outputs": [
    {
     "data": {
      "text/html": [
       "<div>\n",
       "<style scoped>\n",
       "    .dataframe tbody tr th:only-of-type {\n",
       "        vertical-align: middle;\n",
       "    }\n",
       "\n",
       "    .dataframe tbody tr th {\n",
       "        vertical-align: top;\n",
       "    }\n",
       "\n",
       "    .dataframe thead th {\n",
       "        text-align: right;\n",
       "    }\n",
       "</style>\n",
       "<table border=\"1\" class=\"dataframe\">\n",
       "  <thead>\n",
       "    <tr style=\"text-align: right;\">\n",
       "      <th></th>\n",
       "      <th>date</th>\n",
       "      <th>item</th>\n",
       "      <th>volume</th>\n",
       "      <th>price</th>\n",
       "      <th>market</th>\n",
       "    </tr>\n",
       "  </thead>\n",
       "  <tbody>\n",
       "    <tr>\n",
       "      <th>0</th>\n",
       "      <td>2024-06-27</td>\n",
       "      <td>Плит шок Нестле 82гр Горький шоколад 70%</td>\n",
       "      <td>1.000</td>\n",
       "      <td>7.47</td>\n",
       "      <td>Амид 19мкр</td>\n",
       "    </tr>\n",
       "    <tr>\n",
       "      <th>1</th>\n",
       "      <td>2024-06-27</td>\n",
       "      <td>Огурцы Орзу 104</td>\n",
       "      <td>0.398</td>\n",
       "      <td>5.50</td>\n",
       "      <td>Амид 19мкр</td>\n",
       "    </tr>\n",
       "    <tr>\n",
       "      <th>2</th>\n",
       "      <td>2024-06-27</td>\n",
       "      <td>Огурцы Т 3960</td>\n",
       "      <td>0.394</td>\n",
       "      <td>4.95</td>\n",
       "      <td>Амид 19мкр</td>\n",
       "    </tr>\n",
       "    <tr>\n",
       "      <th>3</th>\n",
       "      <td>2024-06-27</td>\n",
       "      <td>Гелос 1 (492)</td>\n",
       "      <td>0.306</td>\n",
       "      <td>34.90</td>\n",
       "      <td>Амид 19мкр</td>\n",
       "    </tr>\n",
       "    <tr>\n",
       "      <th>4</th>\n",
       "      <td>2024-06-27</td>\n",
       "      <td>Помидор 103 м</td>\n",
       "      <td>0.962</td>\n",
       "      <td>3.80</td>\n",
       "      <td>Амид 19мкр</td>\n",
       "    </tr>\n",
       "  </tbody>\n",
       "</table>\n",
       "</div>"
      ],
      "text/plain": [
       "         date                                      item  volume  price  \\\n",
       "0  2024-06-27  Плит шок Нестле 82гр Горький шоколад 70%   1.000   7.47   \n",
       "1  2024-06-27                           Огурцы Орзу 104   0.398   5.50   \n",
       "2  2024-06-27                             Огурцы Т 3960   0.394   4.95   \n",
       "3  2024-06-27                             Гелос 1 (492)   0.306  34.90   \n",
       "4  2024-06-27                             Помидор 103 м   0.962   3.80   \n",
       "\n",
       "       market  \n",
       "0  Амид 19мкр  \n",
       "1  Амид 19мкр  \n",
       "2  Амид 19мкр  \n",
       "3  Амид 19мкр  \n",
       "4  Амид 19мкр  "
      ]
     },
     "execution_count": 25,
     "metadata": {},
     "output_type": "execute_result"
    }
   ],
   "source": [
    "data.head()"
   ]
  },
  {
   "cell_type": "code",
   "execution_count": 26,
   "metadata": {
    "colab": {
     "base_uri": "https://localhost:8080/",
     "height": 337
    },
    "executionInfo": {
     "elapsed": 272,
     "status": "ok",
     "timestamp": 1666024097657,
     "user": {
      "displayName": "Nikita Chestnov",
      "userId": "16607095869821949390"
     },
     "user_tz": -180
    },
    "id": "F0fpgnh_h_ep",
    "outputId": "7291ce9e-b471-4d65-c7ec-e8e874bf5601"
   },
   "outputs": [
    {
     "data": {
      "text/html": [
       "<div>\n",
       "<style scoped>\n",
       "    .dataframe tbody tr th:only-of-type {\n",
       "        vertical-align: middle;\n",
       "    }\n",
       "\n",
       "    .dataframe tbody tr th {\n",
       "        vertical-align: top;\n",
       "    }\n",
       "\n",
       "    .dataframe thead th {\n",
       "        text-align: right;\n",
       "    }\n",
       "</style>\n",
       "<table border=\"1\" class=\"dataframe\">\n",
       "  <thead>\n",
       "    <tr style=\"text-align: right;\">\n",
       "      <th></th>\n",
       "      <th>date</th>\n",
       "      <th>item</th>\n",
       "      <th>volume</th>\n",
       "      <th>price</th>\n",
       "      <th>market</th>\n",
       "    </tr>\n",
       "  </thead>\n",
       "  <tbody>\n",
       "    <tr>\n",
       "      <th>0</th>\n",
       "      <td>2024-06-27</td>\n",
       "      <td>Плит шок Нестле 82гр Горький шоколад 70%</td>\n",
       "      <td>1.000</td>\n",
       "      <td>7.47</td>\n",
       "      <td>Амид 19мкр</td>\n",
       "    </tr>\n",
       "    <tr>\n",
       "      <th>1</th>\n",
       "      <td>2024-06-27</td>\n",
       "      <td>Огурцы Орзу 104</td>\n",
       "      <td>0.398</td>\n",
       "      <td>5.50</td>\n",
       "      <td>Амид 19мкр</td>\n",
       "    </tr>\n",
       "    <tr>\n",
       "      <th>2</th>\n",
       "      <td>2024-06-27</td>\n",
       "      <td>Огурцы Т 3960</td>\n",
       "      <td>0.394</td>\n",
       "      <td>4.95</td>\n",
       "      <td>Амид 19мкр</td>\n",
       "    </tr>\n",
       "  </tbody>\n",
       "</table>\n",
       "</div>"
      ],
      "text/plain": [
       "         date                                      item  volume  price  \\\n",
       "0  2024-06-27  Плит шок Нестле 82гр Горький шоколад 70%   1.000   7.47   \n",
       "1  2024-06-27                           Огурцы Орзу 104   0.398   5.50   \n",
       "2  2024-06-27                             Огурцы Т 3960   0.394   4.95   \n",
       "\n",
       "       market  \n",
       "0  Амид 19мкр  \n",
       "1  Амид 19мкр  \n",
       "2  Амид 19мкр  "
      ]
     },
     "execution_count": 26,
     "metadata": {},
     "output_type": "execute_result"
    }
   ],
   "source": [
    "coins.head(3)"
   ]
  },
  {
   "cell_type": "markdown",
   "metadata": {
    "id": "qqUhPY_e8myo"
   },
   "source": [
    "Тағйирёбандаи data ва натиҷаи data.head() як намуд доранд:"
   ]
  },
  {
   "cell_type": "code",
   "execution_count": 28,
   "metadata": {
    "colab": {
     "base_uri": "https://localhost:8080/"
    },
    "executionInfo": {
     "elapsed": 394,
     "status": "ok",
     "timestamp": 1666024103776,
     "user": {
      "displayName": "Nikita Chestnov",
      "userId": "16607095869821949390"
     },
     "user_tz": -180
    },
    "id": "HIeodMEQiYL4",
    "outputId": "1332bbc1-d7ba-472d-f010-4107e76f6e1a"
   },
   "outputs": [
    {
     "data": {
      "text/plain": [
       "pandas.core.frame.DataFrame"
      ]
     },
     "execution_count": 28,
     "metadata": {},
     "output_type": "execute_result"
    }
   ],
   "source": [
    "type(data.head())"
   ]
  },
  {
   "cell_type": "markdown",
   "metadata": {
    "id": "uYePb4XY9iHC"
   },
   "source": [
    "Барои гирифтани маълумот оиди мӯҳтавои ҷадвал аз методи `info` истифода мебаранд:"
   ]
  },
  {
   "cell_type": "code",
   "execution_count": 29,
   "metadata": {
    "colab": {
     "base_uri": "https://localhost:8080/"
    },
    "executionInfo": {
     "elapsed": 454,
     "status": "ok",
     "timestamp": 1666024115807,
     "user": {
      "displayName": "Nikita Chestnov",
      "userId": "16607095869821949390"
     },
     "user_tz": -180
    },
    "id": "rDm5eooPtNy8",
    "outputId": "e36ba324-f617-4ad6-9133-628501311462"
   },
   "outputs": [
    {
     "name": "stdout",
     "output_type": "stream",
     "text": [
      "<class 'pandas.core.frame.DataFrame'>\n",
      "RangeIndex: 19 entries, 0 to 18\n",
      "Data columns (total 5 columns):\n",
      " #   Column  Non-Null Count  Dtype  \n",
      "---  ------  --------------  -----  \n",
      " 0   date    19 non-null     object \n",
      " 1   item    19 non-null     object \n",
      " 2   volume  19 non-null     float64\n",
      " 3   price   19 non-null     float64\n",
      " 4   market  19 non-null     object \n",
      "dtypes: float64(2), object(3)\n",
      "memory usage: 892.0+ bytes\n"
     ]
    }
   ],
   "source": [
    "data.info()"
   ]
  },
  {
   "cell_type": "markdown",
   "metadata": {
    "id": "bXgHKbXZ9pam"
   },
   "source": [
    "Омори (статистикаи) содда барои майдонҳои ададии ҷадвали data (методи `describe`):"
   ]
  },
  {
   "cell_type": "code",
   "execution_count": 30,
   "metadata": {
    "colab": {
     "base_uri": "https://localhost:8080/",
     "height": 300
    },
    "executionInfo": {
     "elapsed": 752,
     "status": "ok",
     "timestamp": 1666016679999,
     "user": {
      "displayName": "Nikita Chestnov",
      "userId": "16607095869821949390"
     },
     "user_tz": -180
    },
    "id": "LvDSbmZNYdeo",
    "outputId": "34f6cb41-d765-494a-d6f7-94b7a3261017"
   },
   "outputs": [
    {
     "data": {
      "text/html": [
       "<div>\n",
       "<style scoped>\n",
       "    .dataframe tbody tr th:only-of-type {\n",
       "        vertical-align: middle;\n",
       "    }\n",
       "\n",
       "    .dataframe tbody tr th {\n",
       "        vertical-align: top;\n",
       "    }\n",
       "\n",
       "    .dataframe thead th {\n",
       "        text-align: right;\n",
       "    }\n",
       "</style>\n",
       "<table border=\"1\" class=\"dataframe\">\n",
       "  <thead>\n",
       "    <tr style=\"text-align: right;\">\n",
       "      <th></th>\n",
       "      <th>volume</th>\n",
       "      <th>price</th>\n",
       "    </tr>\n",
       "  </thead>\n",
       "  <tbody>\n",
       "    <tr>\n",
       "      <th>count</th>\n",
       "      <td>19.000000</td>\n",
       "      <td>19.000000</td>\n",
       "    </tr>\n",
       "    <tr>\n",
       "      <th>mean</th>\n",
       "      <td>0.880737</td>\n",
       "      <td>28.951053</td>\n",
       "    </tr>\n",
       "    <tr>\n",
       "      <th>std</th>\n",
       "      <td>0.886135</td>\n",
       "      <td>38.892562</td>\n",
       "    </tr>\n",
       "    <tr>\n",
       "      <th>min</th>\n",
       "      <td>0.208000</td>\n",
       "      <td>0.150000</td>\n",
       "    </tr>\n",
       "    <tr>\n",
       "      <th>25%</th>\n",
       "      <td>0.325000</td>\n",
       "      <td>4.925000</td>\n",
       "    </tr>\n",
       "    <tr>\n",
       "      <th>50%</th>\n",
       "      <td>0.962000</td>\n",
       "      <td>9.450000</td>\n",
       "    </tr>\n",
       "    <tr>\n",
       "      <th>75%</th>\n",
       "      <td>1.000000</td>\n",
       "      <td>29.400000</td>\n",
       "    </tr>\n",
       "    <tr>\n",
       "      <th>max</th>\n",
       "      <td>4.000000</td>\n",
       "      <td>120.600000</td>\n",
       "    </tr>\n",
       "  </tbody>\n",
       "</table>\n",
       "</div>"
      ],
      "text/plain": [
       "          volume       price\n",
       "count  19.000000   19.000000\n",
       "mean    0.880737   28.951053\n",
       "std     0.886135   38.892562\n",
       "min     0.208000    0.150000\n",
       "25%     0.325000    4.925000\n",
       "50%     0.962000    9.450000\n",
       "75%     1.000000   29.400000\n",
       "max     4.000000  120.600000"
      ]
     },
     "execution_count": 30,
     "metadata": {},
     "output_type": "execute_result"
    }
   ],
   "source": [
    "data.describe()"
   ]
  },
  {
   "cell_type": "markdown",
   "metadata": {
    "id": "EGJTpSzf9xPg"
   },
   "source": [
    "Сутуни алоҳидаи DataFrame тавассути номаш дастрас мешавад:"
   ]
  },
  {
   "cell_type": "code",
   "execution_count": 31,
   "metadata": {
    "colab": {
     "base_uri": "https://localhost:8080/"
    },
    "executionInfo": {
     "elapsed": 258,
     "status": "ok",
     "timestamp": 1666016689029,
     "user": {
      "displayName": "Nikita Chestnov",
      "userId": "16607095869821949390"
     },
     "user_tz": -180
    },
    "id": "-JfUac4dYdep",
    "outputId": "945e1af4-1336-4938-a990-33b46d43f4db"
   },
   "outputs": [
    {
     "data": {
      "text/plain": [
       "0       7.47\n",
       "1       5.50\n",
       "2       4.95\n",
       "3      34.90\n",
       "4       3.80\n",
       "5      11.50\n",
       "6       9.45\n",
       "7      19.60\n",
       "8     115.80\n",
       "9      57.00\n",
       "10     94.00\n",
       "11    120.60\n",
       "12      4.90\n",
       "13     23.90\n",
       "14      8.00\n",
       "15      3.10\n",
       "16      3.45\n",
       "17     22.00\n",
       "18      0.15\n",
       "Name: price, dtype: float64"
      ]
     },
     "execution_count": 31,
     "metadata": {},
     "output_type": "execute_result"
    }
   ],
   "source": [
    "data['price']"
   ]
  },
  {
   "cell_type": "markdown",
   "metadata": {
    "id": "FJIB6X1j99H6"
   },
   "source": [
    "Бо сутунҳо амалҳоро элемент-ба-элемент иҷро кардан мумкин аст:"
   ]
  },
  {
   "cell_type": "code",
   "execution_count": 32,
   "metadata": {
    "colab": {
     "base_uri": "https://localhost:8080/"
    },
    "executionInfo": {
     "elapsed": 3,
     "status": "ok",
     "timestamp": 1666016691689,
     "user": {
      "displayName": "Nikita Chestnov",
      "userId": "16607095869821949390"
     },
     "user_tz": -180
    },
    "id": "POEyG5xaYdep",
    "outputId": "82648689-d99d-4036-addf-425de60925cc"
   },
   "outputs": [
    {
     "data": {
      "text/plain": [
       "0      7.4700\n",
       "1      2.1890\n",
       "2      1.9503\n",
       "3     10.6794\n",
       "4      3.6556\n",
       "5     11.5000\n",
       "6      9.4500\n",
       "7      6.8600\n",
       "8     24.0864\n",
       "9     15.9600\n",
       "10    32.3360\n",
       "11    27.4968\n",
       "12     1.1172\n",
       "13    24.7604\n",
       "14    16.0000\n",
       "15    12.4000\n",
       "16     3.4500\n",
       "17    22.0000\n",
       "18     0.1500\n",
       "dtype: float64"
      ]
     },
     "execution_count": 32,
     "metadata": {},
     "output_type": "execute_result"
    }
   ],
   "source": [
    "coins['price'] * coins['volume']"
   ]
  },
  {
   "cell_type": "markdown",
   "metadata": {
    "id": "efW6wK-8-EQE"
   },
   "source": [
    "Ба ҷадвали data сутуни нав илова кардан мумкин аст:"
   ]
  },
  {
   "cell_type": "code",
   "execution_count": 34,
   "metadata": {
    "colab": {
     "base_uri": "https://localhost:8080/",
     "height": 162
    },
    "executionInfo": {
     "elapsed": 319,
     "status": "ok",
     "timestamp": 1666024449984,
     "user": {
      "displayName": "Nikita Chestnov",
      "userId": "16607095869821949390"
     },
     "user_tz": -180
    },
    "id": "mGePP6cRYdeq",
    "outputId": "faae7c31-15e5-40a7-b7d1-843117613614"
   },
   "outputs": [
    {
     "data": {
      "text/html": [
       "<div>\n",
       "<style scoped>\n",
       "    .dataframe tbody tr th:only-of-type {\n",
       "        vertical-align: middle;\n",
       "    }\n",
       "\n",
       "    .dataframe tbody tr th {\n",
       "        vertical-align: top;\n",
       "    }\n",
       "\n",
       "    .dataframe thead th {\n",
       "        text-align: right;\n",
       "    }\n",
       "</style>\n",
       "<table border=\"1\" class=\"dataframe\">\n",
       "  <thead>\n",
       "    <tr style=\"text-align: right;\">\n",
       "      <th></th>\n",
       "      <th>date</th>\n",
       "      <th>item</th>\n",
       "      <th>volume</th>\n",
       "      <th>price</th>\n",
       "      <th>market</th>\n",
       "      <th>summa</th>\n",
       "    </tr>\n",
       "  </thead>\n",
       "  <tbody>\n",
       "    <tr>\n",
       "      <th>0</th>\n",
       "      <td>2024-06-27</td>\n",
       "      <td>Плит шок Нестле 82гр Горький шоколад 70%</td>\n",
       "      <td>1.000</td>\n",
       "      <td>7.47</td>\n",
       "      <td>Амид 19мкр</td>\n",
       "      <td>7.4700</td>\n",
       "    </tr>\n",
       "    <tr>\n",
       "      <th>1</th>\n",
       "      <td>2024-06-27</td>\n",
       "      <td>Огурцы Орзу 104</td>\n",
       "      <td>0.398</td>\n",
       "      <td>5.50</td>\n",
       "      <td>Амид 19мкр</td>\n",
       "      <td>2.1890</td>\n",
       "    </tr>\n",
       "    <tr>\n",
       "      <th>2</th>\n",
       "      <td>2024-06-27</td>\n",
       "      <td>Огурцы Т 3960</td>\n",
       "      <td>0.394</td>\n",
       "      <td>4.95</td>\n",
       "      <td>Амид 19мкр</td>\n",
       "      <td>1.9503</td>\n",
       "    </tr>\n",
       "    <tr>\n",
       "      <th>3</th>\n",
       "      <td>2024-06-27</td>\n",
       "      <td>Гелос 1 (492)</td>\n",
       "      <td>0.306</td>\n",
       "      <td>34.90</td>\n",
       "      <td>Амид 19мкр</td>\n",
       "      <td>10.6794</td>\n",
       "    </tr>\n",
       "    <tr>\n",
       "      <th>4</th>\n",
       "      <td>2024-06-27</td>\n",
       "      <td>Помидор 103 м</td>\n",
       "      <td>0.962</td>\n",
       "      <td>3.80</td>\n",
       "      <td>Амид 19мкр</td>\n",
       "      <td>3.6556</td>\n",
       "    </tr>\n",
       "    <tr>\n",
       "      <th>5</th>\n",
       "      <td>2024-05-09</td>\n",
       "      <td>Пряники \"Ягодка\"</td>\n",
       "      <td>1.000</td>\n",
       "      <td>11.50</td>\n",
       "      <td>Доро</td>\n",
       "      <td>11.5000</td>\n",
       "    </tr>\n",
       "    <tr>\n",
       "      <th>6</th>\n",
       "      <td>2024-05-09</td>\n",
       "      <td>Напиток \"Fanta\" апельсин-яблоко 1,25</td>\n",
       "      <td>1.000</td>\n",
       "      <td>9.45</td>\n",
       "      <td>Доро</td>\n",
       "      <td>9.4500</td>\n",
       "    </tr>\n",
       "    <tr>\n",
       "      <th>7</th>\n",
       "      <td>2024-05-09</td>\n",
       "      <td>Помидоры т/т</td>\n",
       "      <td>0.350</td>\n",
       "      <td>19.60</td>\n",
       "      <td>Доро</td>\n",
       "      <td>6.8600</td>\n",
       "    </tr>\n",
       "    <tr>\n",
       "      <th>8</th>\n",
       "      <td>2024-05-09</td>\n",
       "      <td>Конфеты \"Бабаевские\" трюфел/крем РТ</td>\n",
       "      <td>0.208</td>\n",
       "      <td>115.80</td>\n",
       "      <td>Доро</td>\n",
       "      <td>24.0864</td>\n",
       "    </tr>\n",
       "    <tr>\n",
       "      <th>9</th>\n",
       "      <td>2024-05-09</td>\n",
       "      <td>Конфеты \"Тотти\" Suvorov</td>\n",
       "      <td>0.280</td>\n",
       "      <td>57.00</td>\n",
       "      <td>Доро</td>\n",
       "      <td>15.9600</td>\n",
       "    </tr>\n",
       "  </tbody>\n",
       "</table>\n",
       "</div>"
      ],
      "text/plain": [
       "         date                                      item  volume   price  \\\n",
       "0  2024-06-27  Плит шок Нестле 82гр Горький шоколад 70%   1.000    7.47   \n",
       "1  2024-06-27                           Огурцы Орзу 104   0.398    5.50   \n",
       "2  2024-06-27                             Огурцы Т 3960   0.394    4.95   \n",
       "3  2024-06-27                             Гелос 1 (492)   0.306   34.90   \n",
       "4  2024-06-27                             Помидор 103 м   0.962    3.80   \n",
       "5  2024-05-09                          Пряники \"Ягодка\"   1.000   11.50   \n",
       "6  2024-05-09      Напиток \"Fanta\" апельсин-яблоко 1,25   1.000    9.45   \n",
       "7  2024-05-09                              Помидоры т/т   0.350   19.60   \n",
       "8  2024-05-09       Конфеты \"Бабаевские\" трюфел/крем РТ   0.208  115.80   \n",
       "9  2024-05-09                   Конфеты \"Тотти\" Suvorov   0.280   57.00   \n",
       "\n",
       "       market    summa  \n",
       "0  Амид 19мкр   7.4700  \n",
       "1  Амид 19мкр   2.1890  \n",
       "2  Амид 19мкр   1.9503  \n",
       "3  Амид 19мкр  10.6794  \n",
       "4  Амид 19мкр   3.6556  \n",
       "5        Доро  11.5000  \n",
       "6        Доро   9.4500  \n",
       "7        Доро   6.8600  \n",
       "8        Доро  24.0864  \n",
       "9        Доро  15.9600  "
      ]
     },
     "execution_count": 34,
     "metadata": {},
     "output_type": "execute_result"
    }
   ],
   "source": [
    "data['summa'] = coins['price'] * coins['volume']\n",
    "data.head(10)"
   ]
  },
  {
   "cell_type": "markdown",
   "metadata": {
    "id": "5sxBvaIE-MPi"
   },
   "source": [
    "Ҳамаи тағйиротҳои ҷадвал дар хотираи фаврӣ (дар тағйирёбандаҳо Python) нигоҳ дошта мешаванд; ба маълумоти файл таъсир намерасонанд:"
   ]
  },
  {
   "cell_type": "code",
   "execution_count": 38,
   "metadata": {
    "colab": {
     "base_uri": "https://localhost:8080/"
    },
    "executionInfo": {
     "elapsed": 287,
     "status": "ok",
     "timestamp": 1666024476866,
     "user": {
      "displayName": "Nikita Chestnov",
      "userId": "16607095869821949390"
     },
     "user_tz": -180
    },
    "id": "DTMZUbgimSru",
    "outputId": "77839308-d2f4-4ab0-b0c5-ac7dd86d0229"
   },
   "outputs": [
    {
     "data": {
      "text/plain": [
       "Index(['date', 'item', 'volume', 'price', 'market'], dtype='object')"
      ]
     },
     "execution_count": 38,
     "metadata": {},
     "output_type": "execute_result"
    }
   ],
   "source": [
    "demo_data = pd.read_csv('purchases.csv', sep = ';')\n",
    "demo_data.columns"
   ]
  },
  {
   "cell_type": "markdown",
   "metadata": {
    "id": "rGvTyrIB-gJ5"
   },
   "source": [
    "Сутуни ҷадвалро бо воситаи `del` ё методи `pop` хориҷ (delete) кардан мумкин аст:"
   ]
  },
  {
   "cell_type": "code",
   "execution_count": 39,
   "metadata": {
    "id": "RDv4kt8uYdeq"
   },
   "outputs": [],
   "source": [
    "del data['market']  # Тарзи дигар: data.pop('market')"
   ]
  },
  {
   "cell_type": "code",
   "execution_count": 40,
   "metadata": {
    "colab": {
     "base_uri": "https://localhost:8080/",
     "height": 337
    },
    "executionInfo": {
     "elapsed": 14,
     "status": "ok",
     "timestamp": 1666024722375,
     "user": {
      "displayName": "Nikita Chestnov",
      "userId": "16607095869821949390"
     },
     "user_tz": -180
    },
    "id": "1f6DVr6rz7Nq",
    "outputId": "08c83e52-ed24-4c06-d8b6-56e4c7913897"
   },
   "outputs": [
    {
     "data": {
      "text/html": [
       "<div>\n",
       "<style scoped>\n",
       "    .dataframe tbody tr th:only-of-type {\n",
       "        vertical-align: middle;\n",
       "    }\n",
       "\n",
       "    .dataframe tbody tr th {\n",
       "        vertical-align: top;\n",
       "    }\n",
       "\n",
       "    .dataframe thead th {\n",
       "        text-align: right;\n",
       "    }\n",
       "</style>\n",
       "<table border=\"1\" class=\"dataframe\">\n",
       "  <thead>\n",
       "    <tr style=\"text-align: right;\">\n",
       "      <th></th>\n",
       "      <th>date</th>\n",
       "      <th>item</th>\n",
       "      <th>volume</th>\n",
       "      <th>price</th>\n",
       "      <th>summa</th>\n",
       "    </tr>\n",
       "  </thead>\n",
       "  <tbody>\n",
       "    <tr>\n",
       "      <th>0</th>\n",
       "      <td>2024-06-27</td>\n",
       "      <td>Плит шок Нестле 82гр Горький шоколад 70%</td>\n",
       "      <td>1.000</td>\n",
       "      <td>7.47</td>\n",
       "      <td>7.4700</td>\n",
       "    </tr>\n",
       "    <tr>\n",
       "      <th>1</th>\n",
       "      <td>2024-06-27</td>\n",
       "      <td>Огурцы Орзу 104</td>\n",
       "      <td>0.398</td>\n",
       "      <td>5.50</td>\n",
       "      <td>2.1890</td>\n",
       "    </tr>\n",
       "    <tr>\n",
       "      <th>2</th>\n",
       "      <td>2024-06-27</td>\n",
       "      <td>Огурцы Т 3960</td>\n",
       "      <td>0.394</td>\n",
       "      <td>4.95</td>\n",
       "      <td>1.9503</td>\n",
       "    </tr>\n",
       "    <tr>\n",
       "      <th>3</th>\n",
       "      <td>2024-06-27</td>\n",
       "      <td>Гелос 1 (492)</td>\n",
       "      <td>0.306</td>\n",
       "      <td>34.90</td>\n",
       "      <td>10.6794</td>\n",
       "    </tr>\n",
       "    <tr>\n",
       "      <th>4</th>\n",
       "      <td>2024-06-27</td>\n",
       "      <td>Помидор 103 м</td>\n",
       "      <td>0.962</td>\n",
       "      <td>3.80</td>\n",
       "      <td>3.6556</td>\n",
       "    </tr>\n",
       "  </tbody>\n",
       "</table>\n",
       "</div>"
      ],
      "text/plain": [
       "         date                                      item  volume  price  \\\n",
       "0  2024-06-27  Плит шок Нестле 82гр Горький шоколад 70%   1.000   7.47   \n",
       "1  2024-06-27                           Огурцы Орзу 104   0.398   5.50   \n",
       "2  2024-06-27                             Огурцы Т 3960   0.394   4.95   \n",
       "3  2024-06-27                             Гелос 1 (492)   0.306  34.90   \n",
       "4  2024-06-27                             Помидор 103 м   0.962   3.80   \n",
       "\n",
       "     summa  \n",
       "0   7.4700  \n",
       "1   2.1890  \n",
       "2   1.9503  \n",
       "3  10.6794  \n",
       "4   3.6556  "
      ]
     },
     "execution_count": 40,
     "metadata": {},
     "output_type": "execute_result"
    }
   ],
   "source": [
    "data.head()"
   ]
  },
  {
   "cell_type": "markdown",
   "metadata": {
    "id": "-HO6cnxFYdeq"
   },
   "source": [
    "Сутунҳои ҷадвали pandas ҳамчун массиви дарозиаш тағйирёбанда ҳастанд. Сутунҳо соҳиби бисёр методҳои барои аналитика/таҳлил муфид мебошанд:"
   ]
  },
  {
   "cell_type": "code",
   "execution_count": 41,
   "metadata": {
    "colab": {
     "base_uri": "https://localhost:8080/"
    },
    "executionInfo": {
     "elapsed": 2,
     "status": "ok",
     "timestamp": 1666016701841,
     "user": {
      "displayName": "Nikita Chestnov",
      "userId": "16607095869821949390"
     },
     "user_tz": -180
    },
    "id": "hzIUpGi5tv1m",
    "outputId": "5e529e7a-ceca-4d60-f961-418ae8384455"
   },
   "outputs": [
    {
     "data": {
      "text/plain": [
       "0           Плит шок Нестле 82гр Горький шоколад 70%\n",
       "1                                    Огурцы Орзу 104\n",
       "2                                      Огурцы Т 3960\n",
       "3                                      Гелос 1 (492)\n",
       "4                                      Помидор 103 м\n",
       "5                                   Пряники \"Ягодка\"\n",
       "6               Напиток \"Fanta\" апельсин-яблоко 1,25\n",
       "7                                       Помидоры т/т\n",
       "8                Конфеты \"Бабаевские\" трюфел/крем РТ\n",
       "9                            Конфеты \"Тотти\" Suvorov\n",
       "10        Конфеты \"Бабаевские\" с фундуком и какао РТ\n",
       "11    Конфеты \"Вдохновение\" Миндаль и Фундук Крем РТ\n",
       "12                                        Огурцы т/т\n",
       "13                                            БАНАНЫ\n",
       "14                              Напиток \"RC Cola\" 1л\n",
       "15            Мороженое \"Ты+Я\" Дусти Алишер (565828)\n",
       "16                               3.45 с Хлеб (43425)\n",
       "17                               Тухм 30 шт (566084)\n",
       "18                        0.15 с Пакет маль. (11421)\n",
       "Name: item, dtype: object"
      ]
     },
     "execution_count": 41,
     "metadata": {},
     "output_type": "execute_result"
    }
   ],
   "source": [
    "data['item']"
   ]
  },
  {
   "cell_type": "code",
   "execution_count": 42,
   "metadata": {
    "colab": {
     "base_uri": "https://localhost:8080/"
    },
    "executionInfo": {
     "elapsed": 2,
     "status": "ok",
     "timestamp": 1666016703764,
     "user": {
      "displayName": "Nikita Chestnov",
      "userId": "16607095869821949390"
     },
     "user_tz": -180
    },
    "id": "HgmZffd0pGRB",
    "outputId": "99443788-2c1a-4549-c5ba-05a85a0096ef"
   },
   "outputs": [
    {
     "data": {
      "text/plain": [
       "pandas.core.series.Series"
      ]
     },
     "execution_count": 42,
     "metadata": {},
     "output_type": "execute_result"
    }
   ],
   "source": [
    "type(data['item'])"
   ]
  },
  {
   "cell_type": "code",
   "execution_count": 43,
   "metadata": {
    "colab": {
     "base_uri": "https://localhost:8080/"
    },
    "executionInfo": {
     "elapsed": 2,
     "status": "ok",
     "timestamp": 1666016704018,
     "user": {
      "displayName": "Nikita Chestnov",
      "userId": "16607095869821949390"
     },
     "user_tz": -180
    },
    "id": "f5SZLR5mpQWl",
    "outputId": "75aaa24d-7a97-4316-a08e-436d85d4a616"
   },
   "outputs": [
    {
     "name": "stdout",
     "output_type": "stream",
     "text": [
      "Help on function value_counts in module pandas.core.base:\n",
      "\n",
      "value_counts(self, normalize: 'bool' = False, sort: 'bool' = True, ascending: 'bool' = False, bins=None, dropna: 'bool' = True) -> 'Series'\n",
      "    Return a Series containing counts of unique values.\n",
      "\n",
      "    The resulting object will be in descending order so that the\n",
      "    first element is the most frequently-occurring element.\n",
      "    Excludes NA values by default.\n",
      "\n",
      "    Parameters\n",
      "    ----------\n",
      "    normalize : bool, default False\n",
      "        If True then the object returned will contain the relative\n",
      "        frequencies of the unique values.\n",
      "    sort : bool, default True\n",
      "        Sort by frequencies when True. Preserve the order of the data when False.\n",
      "    ascending : bool, default False\n",
      "        Sort in ascending order.\n",
      "    bins : int, optional\n",
      "        Rather than count values, group them into half-open bins,\n",
      "        a convenience for ``pd.cut``, only works with numeric data.\n",
      "    dropna : bool, default True\n",
      "        Don't include counts of NaN.\n",
      "\n",
      "    Returns\n",
      "    -------\n",
      "    Series\n",
      "\n",
      "    See Also\n",
      "    --------\n",
      "    Series.count: Number of non-NA elements in a Series.\n",
      "    DataFrame.count: Number of non-NA elements in a DataFrame.\n",
      "    DataFrame.value_counts: Equivalent method on DataFrames.\n",
      "\n",
      "    Examples\n",
      "    --------\n",
      "    >>> index = pd.Index([3, 1, 2, 3, 4, np.nan])\n",
      "    >>> index.value_counts()\n",
      "    3.0    2\n",
      "    1.0    1\n",
      "    2.0    1\n",
      "    4.0    1\n",
      "    Name: count, dtype: int64\n",
      "\n",
      "    With `normalize` set to `True`, returns the relative frequency by\n",
      "    dividing all values by the sum of values.\n",
      "\n",
      "    >>> s = pd.Series([3, 1, 2, 3, 4, np.nan])\n",
      "    >>> s.value_counts(normalize=True)\n",
      "    3.0    0.4\n",
      "    1.0    0.2\n",
      "    2.0    0.2\n",
      "    4.0    0.2\n",
      "    Name: proportion, dtype: float64\n",
      "\n",
      "    **bins**\n",
      "\n",
      "    Bins can be useful for going from a continuous variable to a\n",
      "    categorical variable; instead of counting unique\n",
      "    apparitions of values, divide the index in the specified\n",
      "    number of half-open bins.\n",
      "\n",
      "    >>> s.value_counts(bins=3)\n",
      "    (0.996, 2.0]    2\n",
      "    (2.0, 3.0]      2\n",
      "    (3.0, 4.0]      1\n",
      "    Name: count, dtype: int64\n",
      "\n",
      "    **dropna**\n",
      "\n",
      "    With `dropna` set to `False` we can also see NaN index values.\n",
      "\n",
      "    >>> s.value_counts(dropna=False)\n",
      "    3.0    2\n",
      "    1.0    1\n",
      "    2.0    1\n",
      "    4.0    1\n",
      "    NaN    1\n",
      "    Name: count, dtype: int64\n",
      "\n"
     ]
    }
   ],
   "source": [
    "help(pd.core.series.Series.value_counts)"
   ]
  },
  {
   "cell_type": "code",
   "execution_count": null,
   "metadata": {},
   "outputs": [],
   "source": []
  }
 ],
 "metadata": {
  "celltoolbar": "Slideshow",
  "colab": {
   "provenance": [
    {
     "file_id": "1ndXjWQeLbxaRXhke7OI9U2akiFBhnM71",
     "timestamp": 1700458254887
    },
    {
     "file_id": "1f5ZwWOTnVULmwZ2nTbHoH3hvDR5ocxMd",
     "timestamp": 1681845434692
    },
    {
     "file_id": "1Xw9re1eQ7is0zExbBFRuRNu0kI3XYEfA",
     "timestamp": 1669023776344
    }
   ],
   "toc_visible": true
  },
  "kernelspec": {
   "display_name": "Python 3 (ipykernel)",
   "language": "python",
   "name": "python3"
  },
  "language_info": {
   "codemirror_mode": {
    "name": "ipython",
    "version": 3
   },
   "file_extension": ".py",
   "mimetype": "text/x-python",
   "name": "python",
   "nbconvert_exporter": "python",
   "pygments_lexer": "ipython3",
   "version": "3.12.2"
  }
 },
 "nbformat": 4,
 "nbformat_minor": 4
}
